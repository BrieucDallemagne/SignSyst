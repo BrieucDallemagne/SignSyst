{
 "cells": [
  {
   "cell_type": "markdown",
   "metadata": {
    "id": "x1kwBO2yJBpJ"
   },
   "source": [
    "# LEPL1106, Devoir 3 : représentation d'état\n",
    "\n",
    "## 0) Introduction et objectif\n",
    "\n",
    "\n",
    "*Vous venez d'acheter une maison à rénover qui se situe à côté d'un héliport. Pour limiter les nuisances sonores liées au décollage et à l'atterrissage des hélicoptères, vous cherchez à mieux isoler acoustiquement la maison. Pour répondre à ce problème, vous allez évaluer la transmission des bruits de moteurs dans la maison à partir d'un système modélisant cette transmission.*\n",
    "\n",
    "On vous demande donc de créer une fonction qui calcule la réponse impulsionnelle d'un système, ainsi que l'évolution de la sortie de ce système (sa *réponse*) en fonction d'une entrée donnée. On vous demande également de trouver la représentation d'état du système, ainsi que de répondre à un petit QCM en fin de devoir.\n",
    "\n",
    "Pour créer, stocker, et opérer sur les signaux, on utilisera le package [`NumPy`](http://www.numpy.org/) de Python. Pour manipuler les systèmes, on utilisera le package [`scipy.signal`](https://docs.scipy.org/doc/scipy/reference/signal.html)."
   ]
  },
  {
   "cell_type": "code",
   "execution_count": null,
   "metadata": {
    "id": "_KcCsGK1JBpa"
   },
   "outputs": [],
   "source": [
    "import numpy as np\n",
    "import scipy.signal as sg\n",
    "\n",
    "import matplotlib.pyplot as plt"
   ]
  },
  {
   "cell_type": "markdown",
   "metadata": {
    "id": "Vnqz21PiJBpd"
   },
   "source": [
    "## 1) Consignes\n",
    "\n",
    "En partant du template fourni ci-dessous, complétez la fonction  `(ty,y) = systemeDiscret(A,B,C,D,ts,x=None)` qui calcule la réponse d'un système discret à un signal d'entrée donné.\n",
    "Votre fonction prendra comme arguments:\n",
    "\n",
    "- Les matrices (numpy array) ``A``, ``B``, ``C``, ``D`` qui correspondent au système avec pour représentation d'état\n",
    "$$\n",
    "    \\begin{align}\n",
    "        q[n+1]&=Aq[n]+Bx[n],\\\\\n",
    "          y[n]&=Cq[n]+Dx[n]\n",
    "    \\end{align}\n",
    "    \\label{eq:rep}\n",
    "$$\n",
    "et qui ont donc les dimensions adéquates.\n",
    "\n",
    "- ``ts``qui donne le temps d'échantillonnage $t_s>0$ (i.e., temps entre deux mesures consécutives) du système en secondes. Si le système est discret par nature, n'importe quelle valeur pour ``ts`` peut être utilisée, mais la plus naturelle est ``ts``=1.\n",
    "\n",
    "- ``x`` qui est un signal d'entrée $x[n]$ discret sous forme vectorielle (numpy array). Ce signal commence en $t=0$ et a un temps d'échantillonage de $t_s$. Cette entrée est optionnelle.\n",
    "\n",
    "Votre fonction doit fournir en sortie (sous forme de numpy array)\n",
    "\n",
    "- `y`, la réponse du système $y$ pour l'entrée $x$ si celle-ci est fournie (autrement dit, si `x` est différent de `None`), **autrement `y` est la réponse impulsionnelle du système.**\n",
    "- `ty` le vecteur temps associé au signal `y`, qui doit être cohérent avec la valeur ``ts``. \n",
    "\n",
    "On vous demande que chaque sortie soit un vecteur, ce qui signifie par exemple que la commande `ty.shape` doit vous retourner quelque chose de la forme `(100,)` (et non pas `(100,1)`).  Pour passer d'une représentation à l'autre vous pouvez utiliser la fonction `reshape` de numpy, ou la fonction `squeeze`.\n",
    "\n",
    "\n",
    "Vous avez réussi à modéliser la manière dont le bruit se transmet dans la maison en fonction de paramètres liés aux matériaux de construction (isolants ou non) utilisés. Ainsi, si $x[n]$ représente le bruit d'un moteur et $y[n]$ l'expression du bruit dans la maison, on a\n",
    "\n",
    "$$ y[n] = \\alpha x[n] + \\beta y[n-1].$$\n",
    "\n",
    "Remarquez que nous travaillons ici sur une version discrétisée du problème, ce qui est assez courant en pratique.\n",
    "Pour pouvoir tester ce modèle dans votre fonction ``systemeDiscret``, vous devez en trouver la représentation d'état. Ainsi, on vous demande d'implémenter la fonction ``(A,B,C,D) = computeMatrices(alpha,beta)`` qui prend en entrée les variables $\\alpha$ et $\\beta$  et retourne les matrices de la représentation d'état.\n",
    "\n",
    "\n",
    "Fonctions à utiliser: `StateSpace`, `dimpulse`, `dlsim` (*note: si vous ne savez pas ce que font ces fonctions, allez lire leur documentation ou utilisez ``help(sg.nomDeLaFonction)``)*.\n",
    "\n",
    "Vous devrez également adapter le [`docstring`](https://realpython.com/documenting-python-code/#documenting-your-python-code-base-using-docstrings) (commentaire au début de votre fonction, qui s'affiche quand on tape ``help(nomDeLaFonction)``) comme indiqué dans les devoirs précédents."
   ]
  },
  {
   "cell_type": "markdown",
   "metadata": {
    "id": "aDl7Hf4pJBph"
   },
   "source": [
    "### Evaluation\n",
    "\n",
    "Les critères et modalités d'évaluation sont repris ci-dessous :\n",
    "\n",
    "- *Respect consignes (1 point)* : description précise des fonction et présence de toutes les informations importantes en commentaire, tentative d'atteindre l'objectif du devoir.\n",
    "- *Fonction systemeDiscret (3 points)* : la fonction soumise remplit les objectifs du devoir et passe avec succès des tests simples, moyens et avancés.\n",
    "- *Fonction computeMatrices (1 point)* : la fonction soumise remplit les objectifs du devoir\n",
    "- *Interprétation des réponses impulsionnelles (3 points)* : réponses correctes."
   ]
  },
  {
   "cell_type": "markdown",
   "metadata": {
    "id": "tzEAYYHNJBpi"
   },
   "source": [
    "### Deadline\n",
    "\n",
    "Le vendredi 10 mars à 20h00. Aucune extension n'est possible, prenez vos dispositions pour soumettre à temps, d'autant plus qu'**il est possible de faire seulement 5 soumissions par heure**."
   ]
  },
  {
   "cell_type": "markdown",
   "metadata": {
    "id": "yz0P5PwGJBpl"
   },
   "source": [
    "### Précision\n",
    "La remise par deux est autorisée pour peu que\n",
    "\n",
    "- les deux étudiants soient membres du même groupe de TP ;\n",
    "- les deux étudiants soient inscrits dans la même team sur la plateforme INGInious."
   ]
  },
  {
   "cell_type": "markdown",
   "metadata": {
    "id": "6v1Cq81JJBpn"
   },
   "source": [
    "## 2) Questions\n",
    "\n"
   ]
  },
  {
   "cell_type": "markdown",
   "metadata": {
    "id": "ID1vC5mbJBpv"
   },
   "source": [
    "\n",
    "Définis(sez) et commente(z) les fonctions ``systemeDiscret`` et ``computeMatrices``.\n"
   ]
  },
  {
   "cell_type": "code",
   "execution_count": null,
   "metadata": {
    "id": "yiXfHei2JBpv"
   },
   "outputs": [],
   "source": [
    "## LE CONTENU DE CETTE CELLLULE EST A SOUMETTRE SUR INGINIOUS\n",
    "def systemeDiscret(A,B,C,D,ts,x=None):\n",
    "    \n",
    "    ty = 0 #TODO\n",
    "    y = 0 #TODO\n",
    "    \n",
    "    return (ty, y)"
   ]
  },
  {
   "cell_type": "code",
   "execution_count": null,
   "metadata": {},
   "outputs": [],
   "source": [
    "## LE CONTENU DE CETTE CELLLULE EST A SOUMETTRE SUR INGINIOUS\n",
    "def computeMatrices(alpha,beta):\n",
    "    \n",
    "    A = 0 #TODO\n",
    "    B = 0 #TODO\n",
    "    C = 0 #TODO\n",
    "    D = 0 #TODO\n",
    "    \n",
    "    return (A,B,C,D)"
   ]
  },
  {
   "cell_type": "markdown",
   "metadata": {
    "id": "yKwyUA5jJBpw"
   },
   "source": [
    "Maintenant, teste(z) la fonction écrite en utilisant la cellule ci-dessous. "
   ]
  },
  {
   "cell_type": "code",
   "execution_count": null,
   "metadata": {
    "id": "u7xFiRSzJBpw"
   },
   "outputs": [],
   "source": [
    "## CELLULE DE TEST\n",
    "\n",
    "# Créer un signal sinusoidal discret\n",
    "ts = 0.2\n",
    "tx = np.arange(0, 20+ts, ts)\n",
    "x = np.sin(0.5*np.pi*tx)\n",
    "\n",
    "# Créer un système\n",
    "A = np.array([0.2])\n",
    "B = np.array([0.2])\n",
    "C = np.array([2.0])\n",
    "D = np.array([-1.1])\n",
    "\n",
    "#Décommenter si vous voulez utiliser computeMatrices pour trouver A,B,C,D:\n",
    "#A,B,C,D = computeMatrices(1,1)\n",
    "\n",
    "# Obtenir la reponse impulsionelle\n",
    "th, h = systemeDiscret(A, B, C, D, ts)\n",
    "\n",
    "# Obtenir la reponse à l'entrée x[n]\n",
    "ty, y = systemeDiscret(A, B, C, D, ts, x)\n",
    "\n",
    "\n",
    "# Affichage\n",
    "plt.figure(figsize=(15,5))\n",
    "plt.rcParams.update({\"font.size\" : 18})\n",
    "\n",
    "mk_x, st_x, bl_x = plt.stem(tx, x, label=\"$x[n]$\", use_line_collection=True)\n",
    "mk_h, st_h, bl_h = plt.stem(th, h, label=\"$h[n]$\", use_line_collection=True)\n",
    "mk_y, st_y, bl_y = plt.stem(ty, y, label=\"$y[n]$\", use_line_collection=True)\n",
    "\n",
    "mks = (mk_x, mk_h, mk_y)\n",
    "sts = (st_x, st_h, st_y)\n",
    "bls = (bl_x, bl_h, bl_y)\n",
    "\n",
    "colors = (\"b\", \"g\", \"r\")\n",
    "sizes = (5, 6, 7)\n",
    "\n",
    "# Donner du style aux signals de façon compacte \n",
    "for mk, st, bl, c, s in zip(mks, sts, bls, colors, sizes):\n",
    "    bl.set_color('k') \n",
    "    bl.set_linewidth(1)\n",
    "    mk.set_markersize(s)\n",
    "    mk.set_color(c) \n",
    "    st.set_color(c) \n",
    "\n",
    "    \n",
    "plt.xlim([0.0, 15.0])\n",
    "\n",
    "plt.title(\"Entrée $x[n]$, réponse impulsionnelle $h[n]$ et sortie $y[n]$ correspondant à un système donné \")\n",
    "plt.xlabel('$n\\cdot t_s$ [s]')\n",
    "\n",
    "plt.legend()\n",
    "plt.show()"
   ]
  },
  {
   "cell_type": "markdown",
   "metadata": {
    "id": "UetnqyVkJBpy"
   },
   "source": [
    "## QCM\n",
    "\n",
    "Vous retrouverez le QCM sur Inginious. On vous y demande de donner la stabilité et la causalité d'un système sur base de sa réponse impulsionnelle. \n",
    "\n",
    "Les réponses impulsionnelles présentées sur Inginious sont les réponses impulsionnelles du système avec $\\alpha, \\beta = (0.1, -0.995); (0.1,1.0001); (2,0.8).$ \n",
    "\n",
    "Vous pouvez donc vérifier à l'aide du code ci-dessous si votre implémentation des deux fonctions précédentes est correcte, et écouter l'effet du choix des matériaux isolants (le système) sur les bruits de moteurs (enregistré dans ``bruit_moteur.wav`` fourni sur Moodle).\n"
   ]
  },
  {
   "cell_type": "code",
   "execution_count": null,
   "metadata": {
    "id": "P5roPx6sJBpy",
    "scrolled": true
   },
   "outputs": [],
   "source": [
    "from scipy.io.wavfile import read, write\n",
    "\n",
    "fs, x = read(\"data/bruit_moteur.wav\")\n",
    "typeL = type(x[0]) #Le type utilisé par votre ordinateur pour les fichiers sons\n",
    "ts = 1/fs\n",
    "\n",
    "#modifier pour voir les autres cas\n",
    "alpha = 0.1\n",
    "beta = 0.995\n",
    "\n",
    "A1,B1,C1,D1 = computeMatrices(alpha,beta)\n",
    "\n",
    "# Affichage\n",
    "plt.figure(figsize=(15,5))\n",
    "plt.rcParams.update({\"font.size\" : 18})\n",
    "\n",
    "[th1, h1] = systemeDiscret(A1, B1, C1, D1, ts)\n",
    "_,_, bl = plt.stem(th1, h1, label=\"$h[n]$\", use_line_collection=True)\n",
    "bl.set_color('k') \n",
    "bl.set_linewidth(1)\n",
    "\n",
    "plt.title(\"Réponse impulsionnelle $h[n]$ d'un système donné \")\n",
    "plt.xlabel('$n\\cdot t_s$ [s]')\n",
    "\n",
    "plt.legend()\n",
    "plt.savefig(str(alpha)+\"_\"+str(beta)+\".png\") \n",
    "plt.show()\n",
    "\n",
    "[ty1, y1] = systemeDiscret(A1, B1, C1, D1, ts, x)\n",
    "\n",
    "\n",
    "# Ce cast de y1 est nécessaire pour que le fichier soit lu, \n",
    "# mais tronque certaines données\n",
    "y1 = y1.astype(typeL) \n",
    "write(\"sortie.wav\", fs, y1)"
   ]
  },
  {
   "cell_type": "markdown",
   "metadata": {
    "id": "fsS4MTiCJBpz"
   },
   "source": [
    "Vous pouvez aller lire les fichiers `sortie.wav` ainsi obtenus à l'aide de votre lecteur préféré."
   ]
  },
  {
   "cell_type": "code",
   "execution_count": null,
   "metadata": {},
   "outputs": [],
   "source": []
  }
 ],
 "metadata": {
  "colab": {
   "collapsed_sections": [],
   "name": "Devoir_03.ipynb",
   "provenance": []
  },
  "kernelspec": {
   "display_name": "Python 3 (ipykernel)",
   "language": "python",
   "name": "python3"
  },
  "language_info": {
   "codemirror_mode": {
    "name": "ipython",
    "version": 3
   },
   "file_extension": ".py",
   "mimetype": "text/x-python",
   "name": "python",
   "nbconvert_exporter": "python",
   "pygments_lexer": "ipython3",
   "version": "3.9.12"
  }
 },
 "nbformat": 4,
 "nbformat_minor": 1
}
