{
 "cells": [
  {
   "cell_type": "markdown",
   "metadata": {
    "id": "wadL4YjmqyWF"
   },
   "source": [
    "Objectif\n",
    "========\n",
    "\n",
    "*Le rappeur 20cent apprécie beaucoup l'hélicoptère pour se déplacer\n",
    "entre deux performances, afin de limiter les temps de trajets. De plus,\n",
    "contempler l'humanité depuis le ciel inspire à 20cent ses plus belles\n",
    "compositions. Le seul problème est le bruit dans l'habitacle, qui peut\n",
    "perturber les oreilles sensibles du musicien. Heureusement, un ami\n",
    "ingénieur lui propose une solution pour pallier ce problème, inspirée\n",
    "des casques antibruit actifs. Après avoir modélisé la transmission du\n",
    "bruit du moteur dans l'habitacle, la seconde étape est d'utiliser ces\n",
    "informations pour concevoir un filtre adapté.*\n",
    "\n",
    "Afin de pouvoir espérer composer dans de bonnes conditions pendant les\n",
    "vols, 20cent a à sa disposition 2 micros disposés stratégiquement à 2\n",
    "endroits différents de l'habitacle. Le premier enregistre sa composition\n",
    "avec le bruit du moteur tandis que le second enregistre le bruit du\n",
    "moteur uniquement.\n",
    "\n",
    "Le schéma ci-dessous représente la transmission du bruit dans\n",
    "l'habitacle. La fonction de transfert `H1` modélise le canal allant du bruit du moteur (`x`) vers le deuxième\n",
    "micro, insensible à `y`. Le signal `y` est celui émis par 20cent.  La fonction de transfert `H2` modélise le canal allant du\n",
    "bruit du moteur (`x`) vers le micro dans lequel s’enregistre 20cent. \n",
    "\n",
    "Un ami ingénieur a modélisé la transmission du bruit dans l'habitacle\n",
    "vers les deux micros via les deux fonctions de transfert `H1` et `H2`.\n",
    "Comment doit-il concevoir la fonction de transfert `H3` pour qu'elle\n",
    "agisse comme un filtre permettant de retrouver le signal original,\n",
    "c'est-à-dire obtenir `y=yest`?\n",
    "\n",
    "On vous demande donc de créer une fonction qui renvoie `H3`, le filtre\n",
    "idéal à mettre en place, et l'estimation `yest` du signal débruité en\n",
    "utilisant `H3` (on considère ici qu'on connait parfaitement `H1` et\n",
    "`H2`).\n"
   ]
  },
  {
   "attachments": {
    "download%20%281%29.png": {
     "image/png": "[encoded data removed]"
    }
   },
   "cell_type": "markdown",
   "metadata": {},
   "source": [
    "![download%20%281%29.png](attachment:download%20%281%29.png)"
   ]
  },
  {
   "cell_type": "markdown",
   "metadata": {},
   "source": [
    "\n",
    "\n",
    "Consignes\n",
    "=========\n",
    "\n",
    "En partant du template fourni ci-dessous, complétez la fonction\n",
    "`(H3,yest) = filtre(n1,d1,n2,d2,y1,x2,fe)`. Pour créer, stocker, et\n",
    "opérer sur les signaux, on utilisera le package\n",
    "[NumPy](http://www.numpy.org/) de Python. Pour manipuler les systèmes,\n",
    "on utilisera le package\n",
    "[scipy.signal](https://docs.scipy.org/doc/scipy/reference/signal.html).\n",
    "\n",
    "Vos fonctions prendront en entrée:\n",
    "\n",
    "-   `n1`, `d1`, `n2` et `d2` (array-like) correspondent respectivement\n",
    "    aux coefficients des numérateurs et dénominateurs des fonctions de\n",
    "    transfert `H1` et `H2` (par ordre décroissant de puissance, comme\n",
    "    défini dans le help de `TransferFunction` du package signal de\n",
    "    scipy)\n",
    "-   `y1` correspond au signal capté par le premier micro ( `y` + moteur\n",
    "    filtré par `H1`) et `x2` au signal capté par le second micro (moteur\n",
    "    filtré par `H2`), ce sont des signaux causaux, sous forme\n",
    "    vectorielle (numpy array)\n",
    "-   `fe` (\\>0) correspond à la fréquence d'échantillonage.\n",
    "\n",
    "Votre fonction doit fournir en sortie\n",
    "\n",
    "-   `yest` (= `y`), le signal original enregistré par 20cent sous forme\n",
    "    vectorielle (numpy array)\n",
    "-   `H3`, la fonction de transfert permettant d'obtenir `yest` (sous\n",
    "    forme d'une instance de la classe `StateSpace`, `TransferFunction`\n",
    "    ou `ZerosPolesGain` )\n",
    "\n",
    "Ces fonctions pourraient vous être utiles: `ZerosPolesGain`, `to_zpk`, `tf2zpk`,\n",
    "`to_tf`, `lfilter` (plus rapide que `dlsim` qui est autorisé également).\n",
    "Notez qu'on ne peut pas multiplier deux fonctions de transfert en\n",
    "python, il va falloir faire preuve d'ingéniosité! (petit indice, passer\n",
    "par la représentation \"zeros-pôles-gains\" peut être utile...)\n",
    "\n",
    "Vous devrez également adapter les\n",
    "[docstring](https://realpython.com/documenting-python-code/#documenting-your-python-code-base-using-docstrings)\n",
    "(commentaire au début de votre fonction, qui s'affiche quand on tape\n",
    "`help(nomDeLaFonction)`) de chaque fonction, comme indiqué dans le\n",
    "modèle.\n",
    "\n",
    "Evaluation\n",
    "==========\n",
    "\n",
    "Les critères et modalités d'évaluation sont repris ci-dessous :\n",
    "\n",
    "-   Respect consignes (1 point) : remise avant la deadline, description\n",
    "    précise de la fonction et présence de toutes les informations\n",
    "    importantes en commentaire, tentative d'atteindre l'objectif du\n",
    "    devoir.\n",
    "-   Objectif du devoir atteint (5 points) : la fonction soumise remplit\n",
    "    les objectifs du devoir et passe avec succès des tests simples,\n",
    "    moyens et avancés (3 points), et les réponses au QCM de test de leur fonction filtre sont correctes (1 point) + QCM sur le principe du feedback (1 point).\n",
    "\n",
    "\n",
    "Deadline\n",
    "========\n",
    "\n",
    "Le vendredi 12 mai à 20h00. Aucune extension n'est possible, prenez vos\n",
    "dispositions pour soumettre à temps, d'autant plus qu'**il est possible\n",
    "de faire seulement cinq soumissions par heure**.\n",
    "\n",
    "Précision\n",
    "=========\n",
    "\n",
    "La remise par deux est vivement conseilée pour peu que\n",
    "\n",
    "-   les deux étudiants soient membres du même groupe de TP ;\n",
    "-   les deux étudiants soient inscrits dans la même team sur la\n",
    "    plateforme INGInious.\n",
    "\n",
    "Questions sur le devoir à adresser à votre tuteur, sur le forum des devoirs ou à\n",
    "<melanie.ghislain@uclouvain.be>"
   ]
  },
  {
   "cell_type": "code",
   "execution_count": 1,
   "metadata": {
    "id": "5px_OXNxq20O"
   },
   "outputs": [],
   "source": [
    "import numpy as np\n",
    "import scipy.signal as sg"
   ]
  },
  {
   "cell_type": "code",
   "execution_count": 42,
   "metadata": {
    "id": "BL8y9Oyzvf_n"
   },
   "outputs": [],
   "source": [
    "## LE CONTENU DE CETTE CELLLULE EST A SOUMETTRE SUR INGINIOUS\n",
    "def filtre(n1,d1,n2,d2,y1,x2,fe):\n",
    "    \"\"\"filtre est une fonction qui ... [description]\n",
    "    \"\"\"\n",
    "    \n",
    "    #On crée nos deux fonctions de transferts connues\n",
    "    H1 = sg.TransferFunction(n1, d1, dt=1/fe)\n",
    "    H2 = sg.TransferFunction(n2, d2, dt=1/fe)\n",
    "    \n",
    "    #Transformation en Zeros Poles Gain form\n",
    "    H1ZPG = sg.ZerosPolesGain(H1, dt=1/fe)\n",
    "    H2ZPG = sg.ZerosPolesGain(H2, dt=1/fe)\n",
    "        \n",
    "    #H3 = H1/H2\n",
    "    numH3 = H1ZPG.zeros/H2ZPG.zeros\n",
    "    denH3 = H1ZPG.poles/H2ZPG.poles\n",
    "    gainH3 = H1ZPG.gain/H2ZPG.gain\n",
    "    \n",
    "    H3ZPG = sg.ZerosPolesGain(numH3, denH3, gainH3, dt=1/fe)\n",
    "    print(H3ZPG)\n",
    "\n",
    "    H3 = H3ZPG.to_tf()\n",
    "    yest = sg.lfilter(H3.num, H3.den, y1.copy())\n",
    "\n",
    "\n",
    "    return (H3,yest)\n"
   ]
  },
  {
   "cell_type": "code",
   "execution_count": 43,
   "metadata": {
    "id": "3xWdAc5Evk-n"
   },
   "outputs": [
    {
     "name": "stdout",
     "output_type": "stream",
     "text": [
      "ZerosPolesGainDiscrete(\n",
      "array([1., 1.]),\n",
      "array([1.00251861-0.00253173j, 1.00251861+0.00253173j]),\n",
      "0.9092381103709982,\n",
      "dt: array([2.2675737e-05])\n",
      ")\n",
      "ZerosPolesGainDiscrete(\n",
      "array([1., 1.]),\n",
      "array([1.00251861-0.00253173j, 1.00251861+0.00253173j]),\n",
      "0.9092381103709982,\n",
      "dt: array([2.2675737e-05])\n",
      ")\n",
      "ZerosPolesGainDiscrete(\n",
      "array([1., 1.]),\n",
      "array([1.00251861-0.00253173j, 1.00251861+0.00253173j]),\n",
      "0.9092381103709982,\n",
      "dt: array([2.2675737e-05])\n",
      ")\n",
      "ZerosPolesGainDiscrete(\n",
      "array([1., 1.]),\n",
      "array([1.00251861-0.00253173j, 1.00251861+0.00253173j]),\n",
      "0.9092381103709982,\n",
      "dt: array([2.2675737e-05])\n",
      ")\n"
     ]
    }
   ],
   "source": [
    "# On vous demande d'utiliser votre fonction filtre sur le fichier \n",
    "# sons_dev09.pickle (sur Moodle) pour répondre au QCM sur INGInious \n",
    "# Vous pouvez créer les fichiers à écouter à l'aide du code suivant\n",
    "\n",
    "# Veillez à ce que le fichier sons_dev09.pickle soit dans le même dossier que ce notebook.\n",
    "# La sortie du signal \"a\" est enregistrée dans le fichier \"out_a.wav\"\n",
    "# Le signal \"y1\" est également enregistré dans le fichier \"in_a.wav\" pour que vous puissiez \n",
    "# comparer le signal avant et après filtrage ;)\n",
    "\n",
    "# ATTENTION: si vous êtes sur windows, il est possible que votre ordinateur ne parvienne pas à lire \n",
    "# les fichiers out.wav produits. Dans ce cas, convertissez d'abord le fichier en  mp3 pour pouvoir \n",
    "# le lire.  De plus, il arrive que les fichiers ne soient pas écrasés lorsqu'on relance le code. \n",
    "# Effacez donc les précédents outputs avant de relancer le code. \n",
    "\n",
    "from scipy.io.wavfile import write\n",
    "import pickle\n",
    "import pandas as pd \n",
    "import numpy as np\n",
    "\n",
    "infile = open('sons_dev09.pickle','rb')\n",
    "data= pickle.load(infile)\n",
    "infile.close()\n",
    "for l in ['a','b','c','d']:\n",
    "    H3, yest = filtre(data['n1'],data['d1'],data['n2'],data['d2'],data['y'+l],data['x'+l],data['fe']);\n",
    "    fs = data['fe'][0]\n",
    "    write(\"out_\"+ l + \".wav\", fs, yest*50) # le *50 ici permet juste que le son soit plus fort \n",
    "    write(\"in_\"+ l + \".wav\", fs, data['y'+l])"
   ]
  },
  {
   "cell_type": "code",
   "execution_count": null,
   "metadata": {},
   "outputs": [],
   "source": []
  },
  {
   "cell_type": "code",
   "execution_count": null,
   "metadata": {},
   "outputs": [],
   "source": []
  },
  {
   "cell_type": "code",
   "execution_count": null,
   "metadata": {},
   "outputs": [],
   "source": []
  }
 ],
 "metadata": {
  "colab": {
   "collapsed_sections": [],
   "name": "Devoir10.ipynb",
   "provenance": [],
   "toc_visible": true
  },
  "kernelspec": {
   "display_name": "Python 3 (ipykernel)",
   "language": "python",
   "name": "python3"
  },
  "language_info": {
   "codemirror_mode": {
    "name": "ipython",
    "version": 3
   },
   "file_extension": ".py",
   "mimetype": "text/x-python",
   "name": "python",
   "nbconvert_exporter": "python",
   "pygments_lexer": "ipython3",
   "version": "3.10.11"
  }
 },
 "nbformat": 4,
 "nbformat_minor": 4
}
