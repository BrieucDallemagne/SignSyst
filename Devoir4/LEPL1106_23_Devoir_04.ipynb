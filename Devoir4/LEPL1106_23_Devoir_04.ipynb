{
 "cells": [
  {
   "cell_type": "markdown",
   "metadata": {},
   "source": [
    "# LEPL1106, Devoir 4 : série de Fourier\n",
    "\n",
    "## 0) Introduction\n",
    "\n",
    "*Actuellement en pleine préparation de son prochain album, \"Step Kronecker Impulsion\", le rappeur 20 Cent est débordé et a besoin de votre aide. En effet, le beat d'une de ses chansons ne lui convient pas ; il souhaite booster les basses fréquences (fréquences graves) pour donner plus de \"volume\" au son. Pour cela, il souhaite dans un premier temps analyser le contenu fréquentiel du signal audio de son beat, pour ensuite, à partir de cette représentation, augmenter les composantes du signal associées aux basses fréquences. Il souhaite donc que vous l'aidiez à calculer les coefficients en série de Fourier d'un signal périodique.*\n",
    "\n",
    "Pour rappel, la série de Fourier (FS) d'un signal discret périodique $x[n]$ de période fondamentale $N$ est donnée par :\n",
    "\n",
    "$$X[k] = \\frac{1}{N}\\sum_{n=0}^{N-1} x[n] e^{-jk\\Omega_0n} \\qquad \\qquad k\\in 0,1,...,N-1$$\n",
    "\n",
    "où $\\Omega_0 = \\frac{2\\pi}{N}$. Les coefficients $X[k]$ obtenus sont également périodiques, de période fondamentale $N$ (c'est-à-dire, $X[k+N] = X[k]$, *vérifiez-le !*)"
   ]
  },
  {
   "cell_type": "code",
   "execution_count": 5,
   "outputs": [
    {
     "name": "stdout",
     "output_type": "stream",
     "text": [
      "Requirement already satisfied: matplotlib in c:\\users\\thoma\\appdata\\local\\programs\\python\\python310\\lib\\site-packages (3.7.1)\n",
      "Requirement already satisfied: kiwisolver>=1.0.1 in c:\\users\\thoma\\appdata\\local\\programs\\python\\python310\\lib\\site-packages (from matplotlib) (1.3.2)\n",
      "Requirement already satisfied: pillow>=6.2.0 in c:\\users\\thoma\\appdata\\local\\programs\\python\\python310\\lib\\site-packages (from matplotlib) (8.4.0)\n",
      "Requirement already satisfied: packaging>=20.0 in c:\\users\\thoma\\appdata\\local\\programs\\python\\python310\\lib\\site-packages (from matplotlib) (21.3)\n",
      "Requirement already satisfied: pyparsing>=2.3.1 in c:\\users\\thoma\\appdata\\local\\programs\\python\\python310\\lib\\site-packages (from matplotlib) (3.0.4)\n",
      "Requirement already satisfied: python-dateutil>=2.7 in c:\\users\\thoma\\appdata\\local\\programs\\python\\python310\\lib\\site-packages (from matplotlib) (2.8.2)\n",
      "Requirement already satisfied: cycler>=0.10 in c:\\users\\thoma\\appdata\\local\\programs\\python\\python310\\lib\\site-packages (from matplotlib) (0.11.0)\n",
      "Requirement already satisfied: fonttools>=4.22.0 in c:\\users\\thoma\\appdata\\local\\programs\\python\\python310\\lib\\site-packages (from matplotlib) (4.39.0)\n",
      "Requirement already satisfied: contourpy>=1.0.1 in c:\\users\\thoma\\appdata\\local\\programs\\python\\python310\\lib\\site-packages (from matplotlib) (1.0.7)\n",
      "Requirement already satisfied: numpy>=1.20 in c:\\users\\thoma\\appdata\\local\\programs\\python\\python310\\lib\\site-packages (from matplotlib) (1.21.3)\n",
      "Requirement already satisfied: six>=1.5 in c:\\users\\thoma\\appdata\\local\\programs\\python\\python310\\lib\\site-packages (from python-dateutil>=2.7->matplotlib) (1.16.0)\n",
      "Note: you may need to restart the kernel to use updated packages.\n"
     ]
    },
    {
     "name": "stderr",
     "output_type": "stream",
     "text": [
      "WARNING: You are using pip version 22.0.4; however, version 23.0.1 is available.\n",
      "You should consider upgrading via the 'C:\\Users\\thoma\\AppData\\Local\\Programs\\Python\\Python310\\python.exe -m pip install --upgrade pip' command.\n"
     ]
    }
   ],
   "source": [
    "pip install matplotlib"
   ],
   "metadata": {
    "collapsed": false
   }
  },
  {
   "cell_type": "code",
   "execution_count": 6,
   "metadata": {},
   "outputs": [],
   "source": [
    "import numpy as np\n",
    "import matplotlib.pyplot as plt\n",
    "\n",
    "# Tailles de police utilisées avec la librairie matplotlib\n",
    "legendsize = 14\n",
    "titlesize = 14\n",
    "labelsize = 16"
   ]
  },
  {
   "cell_type": "markdown",
   "metadata": {},
   "source": [
    "## 1) Transformée de Fourier discrète (DFT en anglais) et Fast Fourier Transform (FFT)\n",
    "\n",
    "Sans surprise, il existe une fonction intégrée à [NumPy](http://www.numpy.org/) qui réalise \"presque\" le calcul de la série de Fourier : il s'agit de la fonction [FFT](https://numpy.org/doc/stable/reference/generated/numpy.fft.fft.html). Voyons de suite son docstring :"
   ]
  },
  {
   "cell_type": "code",
   "execution_count": 7,
   "metadata": {},
   "outputs": [
    {
     "name": "stdout",
     "output_type": "stream",
     "text": [
      "Help on function fft in module numpy.fft:\n",
      "\n",
      "fft(a, n=None, axis=-1, norm=None)\n",
      "    Compute the one-dimensional discrete Fourier Transform.\n",
      "    \n",
      "    This function computes the one-dimensional *n*-point discrete Fourier\n",
      "    Transform (DFT) with the efficient Fast Fourier Transform (FFT)\n",
      "    algorithm [CT].\n",
      "    \n",
      "    Parameters\n",
      "    ----------\n",
      "    a : array_like\n",
      "        Input array, can be complex.\n",
      "    n : int, optional\n",
      "        Length of the transformed axis of the output.\n",
      "        If `n` is smaller than the length of the input, the input is cropped.\n",
      "        If it is larger, the input is padded with zeros.  If `n` is not given,\n",
      "        the length of the input along the axis specified by `axis` is used.\n",
      "    axis : int, optional\n",
      "        Axis over which to compute the FFT.  If not given, the last axis is\n",
      "        used.\n",
      "    norm : {\"backward\", \"ortho\", \"forward\"}, optional\n",
      "        .. versionadded:: 1.10.0\n",
      "    \n",
      "        Normalization mode (see `numpy.fft`). Default is \"backward\".\n",
      "        Indicates which direction of the forward/backward pair of transforms\n",
      "        is scaled and with what normalization factor.\n",
      "    \n",
      "        .. versionadded:: 1.20.0\n",
      "    \n",
      "            The \"backward\", \"forward\" values were added.\n",
      "    \n",
      "    Returns\n",
      "    -------\n",
      "    out : complex ndarray\n",
      "        The truncated or zero-padded input, transformed along the axis\n",
      "        indicated by `axis`, or the last one if `axis` is not specified.\n",
      "    \n",
      "    Raises\n",
      "    ------\n",
      "    IndexError\n",
      "        If `axis` is not a valid axis of `a`.\n",
      "    \n",
      "    See Also\n",
      "    --------\n",
      "    numpy.fft : for definition of the DFT and conventions used.\n",
      "    ifft : The inverse of `fft`.\n",
      "    fft2 : The two-dimensional FFT.\n",
      "    fftn : The *n*-dimensional FFT.\n",
      "    rfftn : The *n*-dimensional FFT of real input.\n",
      "    fftfreq : Frequency bins for given FFT parameters.\n",
      "    \n",
      "    Notes\n",
      "    -----\n",
      "    FFT (Fast Fourier Transform) refers to a way the discrete Fourier\n",
      "    Transform (DFT) can be calculated efficiently, by using symmetries in the\n",
      "    calculated terms.  The symmetry is highest when `n` is a power of 2, and\n",
      "    the transform is therefore most efficient for these sizes.\n",
      "    \n",
      "    The DFT is defined, with the conventions used in this implementation, in\n",
      "    the documentation for the `numpy.fft` module.\n",
      "    \n",
      "    References\n",
      "    ----------\n",
      "    .. [CT] Cooley, James W., and John W. Tukey, 1965, \"An algorithm for the\n",
      "            machine calculation of complex Fourier series,\" *Math. Comput.*\n",
      "            19: 297-301.\n",
      "    \n",
      "    Examples\n",
      "    --------\n",
      "    >>> np.fft.fft(np.exp(2j * np.pi * np.arange(8) / 8))\n",
      "    array([-2.33486982e-16+1.14423775e-17j,  8.00000000e+00-1.25557246e-15j,\n",
      "            2.33486982e-16+2.33486982e-16j,  0.00000000e+00+1.22464680e-16j,\n",
      "           -1.14423775e-17+2.33486982e-16j,  0.00000000e+00+5.20784380e-16j,\n",
      "            1.14423775e-17+1.14423775e-17j,  0.00000000e+00+1.22464680e-16j])\n",
      "    \n",
      "    In this example, real input has an FFT which is Hermitian, i.e., symmetric\n",
      "    in the real part and anti-symmetric in the imaginary part, as described in\n",
      "    the `numpy.fft` documentation:\n",
      "    \n",
      "    >>> import matplotlib.pyplot as plt\n",
      "    >>> t = np.arange(256)\n",
      "    >>> sp = np.fft.fft(np.sin(t))\n",
      "    >>> freq = np.fft.fftfreq(t.shape[-1])\n",
      "    >>> plt.plot(freq, sp.real, freq, sp.imag)\n",
      "    [<matplotlib.lines.Line2D object at 0x...>, <matplotlib.lines.Line2D object at 0x...>]\n",
      "    >>> plt.show()\n",
      "\n"
     ]
    }
   ],
   "source": [
    "help(np.fft.fft) #Notez que la fonction fft se trouve dans le module fft de numpy, d'où np.fft.fft"
   ]
  },
  {
   "cell_type": "markdown",
   "metadata": {},
   "source": [
    "Sur base du docstring, on constate que la fonction `np.fft.fft` calcule la transformée de Fourier discrète, surnommée DFT pour *Discrete Fourier Transform* en anglais (à ne pas confondre avec la DTFT - *Discrete Time Fourier Transform* !). Pour ce faire, elle utilise l'algorithme *Fast Fourier Transform*$^1$ (FFT). Pour éviter toute confusion : la FFT est donc une *implémentation possible* (particulièrement efficace) de la DFT.\n",
    "\n",
    "\n",
    "*$^1$ Pour les curieux, voir [Wikipédia](https://en.wikipedia.org/wiki/Fast_Fourier_transform) mais cela sort largement du cadre du cours. Retenez simplement que grâce à l'algorithme FFT, on peut calculer une DFT très rapidement _lorsque la longueur $N$ du signal fourni en entrée est une puissance de 2_*.\n",
    "\n",
    "\n",
    "> Oui mais c'est quoi une DFT ?\n",
    ">\n",
    "> -- étudiant anonyme qui pensait avoir tout vu avec la séance 4\n",
    "\n",
    "Une DFT permet d'évaluer numériquement les transformées (=/= séries) de Fourier. Sans rentrer dans trop de détails pour le moment, sachez que la définition de la DFT pour un signal $x[n]$ tronqué à $N$ échantillons est la suivante :\n",
    "\n",
    "$$X_{DFT}[k] = \\sum_{n=0}^{N-1} x[n] e^{-j2\\pi kn/N} \\qquad \\qquad k\\in 0,1,...,N-1$$\n",
    "\n",
    "La DFT est aussi périodique, de période $N$ (soit $X_{DFT}[k+N]=X_{DFT}[k]$).\n",
    "\n",
    "> Je me sens perdu avec toutes ces notions de transformées et séries !\n",
    ">\n",
    "> -- étudiant anonyme\n",
    "\n",
    "Voici une petite synthèse de ces concepts, qui sont généralement utilisés pour passer de la représentation en domaine direct d'un signal à sa représentation en domaine fréquentiel :\n",
    " - FS (continu) : La Série de Fourier en temps continu ($x(t) \\Rightarrow X[k]$) part d'un signal continu périodique;\n",
    " - FS (discret) : La Série de Fourier en temps discret ($x[n] \\Rightarrow X[k]$) part d'un signal discret périodique;\n",
    " - FT : La Transformée de Fourier ($x(t) \\Rightarrow X[j\\omega]$) part d'un signal continu non-périodique;\n",
    " - DTFT : La Transformée de Fourier en temps discret ($x[n] \\Rightarrow X(e^{j\\Omega})$) part d'un signal discret non-périodique;\n",
    " - DFT : La Transformée de Fourier discrète ($x[n] \\Rightarrow X[k]$) part d'un signal discret à support fini;\n",
    " - FFT : Il s'agit d'une implémentation possible pour calculer efficacement la DFT\n",
    "\n",
    "\n",
    "Le concept de la DFT sera abordé lors du cours et une séance d'exercice complète lui est dédiée. Pas de panique si vous ne saisissez pas encore toutes les subtilités ! $^2$\n",
    "\n",
    "Bref, outre un facteur $\\frac{1}{N}$, DFT et FS (discret) semblent similaires pour des signaux discrets. La différence fondamentale réside dans l'interprétation implicite du $x[n]$ : \n",
    "\n",
    "- Pour la DFT, le signal $x[n]$ est un signal à support fini, avec $N$ échantillons. \n",
    "\n",
    "- Pour la FS, le signal $x[n]$ est périodique, de période $N$, et se répète donc en dehors des $N$ échantillons donnés à la FS. Généralement, on utilise une période du signal $x[n]$ pour calculer sa FS.\n",
    "\n",
    "> Et donc je dois faire quoi pour mon devoir ???\n",
    ">\n",
    "> -- étudiant anonyme qui commence doucement à s'inquiéter\n",
    "\n",
    "On va se restreindre ici à des signaux périodiques, de période $N$. On peut alors calculer leurs coefficients en série de Fourier (FS) simplement en calculant la DFT de taille $N$ (implémentée par l'*algorithme* FFT) et en corrigeant le facteur $\\frac{1}{N}$ manquant dans la définition de la DFT par rapport à celle de la FS. \n",
    "\n",
    "*$^2$ Pour celles et ceux qui voudraient mieux comprendre ou en savoir plus, n'hésitez pas à vous orienter vers le forum Moodle, votre tutrice/tuteur ou le reste de l'équipe encadrante.*"
   ]
  },
  {
   "cell_type": "markdown",
   "metadata": {},
   "source": [
    "## 2) Calcul des coefficients de la série de Fourier d'un signal périodique"
   ]
  },
  {
   "cell_type": "markdown",
   "metadata": {},
   "source": [
    "### Signal x[n]"
   ]
  },
  {
   "cell_type": "markdown",
   "metadata": {},
   "source": [
    "Commençons par définir un petit cosinus de période $N=2$, auquel on somme une constante :\n",
    "\n",
    "$$ x[n] = 2 + \\cos(n \\pi) $$\n",
    "\n",
    "> Tiens donc, je me rappelle de ce signal... J'ai dû calculer les coefficients de sa série de Fourier lors de l'exercice 4.6 b) de la séance 4. Je vais donc pouvoir vérifier la réponse que j'obtiens ici avec celle que j'ai calculée en séance...\n",
    ">\n",
    "> -- étudiant anonyme plutôt malin\n",
    "\n",
    "Petit test rapide pour voir à quoi ressemble notre signal :"
   ]
  },
  {
   "cell_type": "code",
   "execution_count": 8,
   "metadata": {},
   "outputs": [
    {
     "name": "stdout",
     "output_type": "stream",
     "text": [
      "n :  [0 1 2 3 4 5 6 7 8 9]\n",
      "x :  [3. 1. 3. 1. 3. 1. 3. 1. 3. 1.]\n"
     ]
    },
    {
     "data": {
      "text/plain": "<Figure size 864x432 with 1 Axes>",
      "image/png": "[encoded data removed]"
     },
     "metadata": {
      "needs_background": "light"
     },
     "output_type": "display_data"
    }
   ],
   "source": [
    "N = 2\n",
    "n = np.arange(0,5*N)\n",
    "x = 2 + np.cos(n*np.pi)\n",
    "\n",
    "print(\"n : \",n)\n",
    "print(\"x : \",x)\n",
    "\n",
    "plt.figure(figsize=(12,6))\n",
    "markerline, stemlines, baseline = plt.stem(n,x)\n",
    "plt.setp(baseline,color='k')\n",
    "plt.setp(stemlines,color='b',linewidth=2,linestyle='--')\n",
    "plt.setp(markerline,color='b',marker='o',markersize=10)\n",
    "plt.title(f\"Signal $x[n]$\",fontsize=titlesize)\n",
    "plt.xlabel('$n$ [-]',fontsize=labelsize)\n",
    "plt.ylabel('$x[n]$ [-]',fontsize=labelsize)\n",
    "plt.grid('on',alpha=0.3)\n",
    "plt.ylim((-0.2,3.5))\n",
    "plt.show()"
   ]
  },
  {
   "cell_type": "markdown",
   "metadata": {},
   "source": [
    "Comme attendu, le signal est bien périodique, de période $N=2$."
   ]
  },
  {
   "cell_type": "markdown",
   "metadata": {},
   "source": [
    "### Avez-vous bien suivi l'introduction théorique ?"
   ]
  },
  {
   "cell_type": "markdown",
   "metadata": {},
   "source": [
    "Nous vous proposons de commencer le devoir par vous poser les questions suivantes, sur base de l'introduction théorique ci-dessus...\n",
    "\n",
    "Le signal $x[n]$ est-il...\n",
    " - Discret ? oui\n",
    " - Continu ? non\n",
    " - Périodique ? oui\n",
    " - Non-périodique ? non\n",
    " \n",
    "Après calcul des coefficients de Série de Fourier, le signal $X[k]$ sera-t-il...\n",
    " - Discret ? oui\n",
    " - Continu ? non\n",
    " - Périodique ? oui\n",
    " - Non-périodique ? non\n",
    " - Obtenu à l'aide d'une DTFT ? //à faire\n",
    " \n",
    "Ce même signal $X[k]$ est-il une fonction...\n",
    " - Paire ? oui\n",
    " - Impaire ? non\n",
    " - Ni paire ni impaire ?\n",
    " \n",
    "Les réponses à ces questions devront être données sur INGInious."
   ]
  },
  {
   "cell_type": "markdown",
   "metadata": {},
   "source": [
    "### Calcul des coefficients de la série de Fourier"
   ]
  },
  {
   "cell_type": "markdown",
   "metadata": {},
   "source": [
    "A vous d'implémenter maintenant la fonction `serieFourier(x,N)`, calculant les coefficients de la série de Fourier d'un signal périodique $x[n]$. \n",
    "\n",
    "L'argument $N$ est un entier et correspond à la période *fondamentale* du signal. L'argument $x$ est un vecteur de longueur $pN$ où $p\\in \\mathbb N$ et dont les entrées sont des valeurs réelles. Le support du signal $x$ est donc $\\{0,\\dots,pN-1\\}$.\n",
    "\n",
    "La fonction doit renvoyer deux vecteurs $X$ et $k$ décrits ci-dessous (attention à bien retourner le tuple $(X,k)$).\n",
    "Le vecteur $X$, __de longueur $N$__, contient les coefficients de Fourier du signal périodique $x[n]$ __calculés sur une seule période__, ceux-ci pouvant être complexes. Le vecteur $k$ contient les indices (entiers relatifs) correspondant aux coefficients  $X$ de la série de Fourier. \n",
    "\n",
    "Attention, on vous demande en outre de :\n",
    "\n",
    "- supprimer les erreurs d'arrondis en remplaçant par 0 les coefficients $X[k]$ ayant une **amplitude en valeur absolue** inférieure à 1e-9\n",
    "\n",
    "- centrer les coefficients $X[k]$ obtenus autour de $k=0$ (ce qui correspond à la fréquence nulle). Pour ce faire, utilisez la fonction `np.fft.fftshift` (voir [ici](https://numpy.org/doc/stable/reference/generated/numpy.fft.fftshift.html)), qui s'utilise directement sur la sortie de la fonction `np.fft.fft`. Après avoir appliqué un `np.fft.fftshift`, le vecteur des $k$ ne correspond plus à $\\{0,1,...,N-1\\}$ mais bien à l'intervalle [(c'est quoi ces parenthèses malformées ?)](https://fr.wikipedia.org/wiki/Partie_enti%C3%A8re_et_partie_fractionnaire)\n",
    " :\n",
    "$$k\\in\\left\\{-\\left\\lceil{\\frac{N-1}{2}}\\right\\rceil,\\dots,\\left\\lfloor{\\frac{N-1}{2}}\\right\\rfloor\\right\\}.$$\n",
    "A vous de construire correctement ce vecteur des $k$...\n"
   ]
  },
  {
   "cell_type": "code",
   "execution_count": 40,
   "metadata": {},
   "outputs": [],
   "source": [
    "## LE CONTENU DE CETTE CELLLULE EST A SOUMETTRE SUR INGINIOUS\n",
    "\n",
    "def serieFourier(x,N):\n",
    "    \"\"\"\n",
    "    A COMPLETER\n",
    "    \"\"\"\n",
    "    error = 1e-9\n",
    "    print(x, N)\n",
    "    X = np.fft.fft(x) # on tronque notre série à la période, cela retourne les valeurs de 0 à N-1\n",
    "    X = np.fft.fftshift(X)\n",
    "    print(X)\n",
    "\n",
    "    k = np.arange(-np.ceil((N-1)/2), 1+np.floor((N-1)/2))\n",
    "    \n",
    "    X = list(map(lambda x: x if x > 1e-9 else 0, X)) # Remplace les valeurs infimes par 0\n",
    "    return (X,k)\n"
   ]
  },
  {
   "cell_type": "code",
   "execution_count": 41,
   "metadata": {},
   "outputs": [
    {
     "name": "stdout",
     "output_type": "stream",
     "text": [
      "[3. 1.] 2\n",
      "[2.+0.j 4.+0.j]\n",
      "k :   [-1.  0.]\n",
      "Module de X : [2. 4.]\n"
     ]
    }
   ],
   "source": [
    "## CELLULE DE TEST\n",
    "\n",
    "# Création du signal période x[n], sur une seule période\n",
    "N = 2\n",
    "p = 1 # à modifier\n",
    "n = np.arange(0,p*N)\n",
    "x  = 2 + np.cos(n*np.pi) # signal de l'exercice 4.6 b)\n",
    "\n",
    "\n",
    "(X,k) = serieFourier(x,N)\n",
    "\n",
    "print(\"k :  \", k)\n",
    "print(\"Module de X :\", np.abs(X))\n",
    "\n",
    "# Vous devez normalement obtenir ici la même valeur que les coefficients calculés à l'exercice 4.6 b). Sauf que, suite au\n",
    "# fftshift, vous obtenez X[-1] et X[0]. Cela étant, les coefficients X[k] étant périodiques de période N=2, on a X[-1]=X[1].\n",
    "\n",
    "# Testez maintenant de modifier p pour prendre p périodes fondamentales du signal x[n]. \n",
    "# Votre fonction remplit-elle les spécifications demandées ? (vecteur X de longueur N ?...)"
   ]
  },
  {
   "cell_type": "markdown",
   "metadata": {},
   "source": [
    "## 3) Représentation des coefficients en série de Fourier\n",
    "\n",
    "Finalement, on aimerait représenter les coefficients en série de Fourier sur une figure. Pour cela, nous vous proposons de compléter la fonction `plotSerieFourier(x,X,k,name)` qui crée et sauvegarde une figure contenant trois sous-figures affichant, dans l'ordre : 1) le signal discret $x[n]$ aux indices $n$ appropriés, 2) le graphe en amplitude et 3) le graphe en phase des coefficients $X[k]$ aux indices $k$ appropriés (rappelez-vous, les coefficients $X[k]$ de la série de Fourier peuvent être complexes en toute généralité, d'où l'utilité de créer un graphe en amplitude et en phase). Pour représenter les 3 sous-figures, utilisez la librairie Matplotlib avec la fonction [subplot](https://matplotlib.org/stable/api/_as_gen/matplotlib.pyplot.subplot.html). \n",
    "\n",
    "Votre fonction sauve également la figure au format png (donc un seul fichier pour les 3 sous-figures) avec le nom *name* (la sauvegarde est déjà implémentée pour vous, ne supprimez pas cette ligne !). Faites attention à respecter la convention d'affichage d'un signal discret (par exemple, en utilisant *plt.stem*), à annoter convenablement vos axes (labels, unités...), et à donner un titre et (si besoin) une légende à vos sous-figures."
   ]
  },
  {
   "cell_type": "code",
   "execution_count": 44,
   "metadata": {},
   "outputs": [],
   "source": [
    "# LE CONTENU DE CETTE CELLLULE EST A SOUMETTRE SUR INGINIOUS\n",
    "\n",
    "def plotSerieFourier(x,X,k,name):\n",
    "    \"\"\"\n",
    "    A COMPLETER\n",
    "    \"\"\"\n",
    "    axey = [x,X,k]\n",
    "    axe = np.arange(0, len(x))\n",
    "    # Création de la figure, de taille fixe.\n",
    "    plt.figure(figsize=(12,16))\n",
    "    fig, _ = plt.subplots(nrows=3, ncols=1)\n",
    "    for i, ax in enumerate(fig.axes):\n",
    "        ax.plot(axe, axey[i])\n",
    "    # A MODIFIER : crée(z) ici le plot avec les trois sous-figures\n",
    "    # par exemple, en partant de ceci :\n",
    "    #plt.subplot(3,1,1)\n",
    "    # ...\n",
    "    #plt.subplot(3,1,2)\n",
    "    # ...\n",
    "    #plt.subplot(3,1,3)\n",
    "    # ...\n",
    "\n",
    "\n",
    "\n",
    "    plt.subplots_adjust(hspace=0.5) # Pour ajuster l'espace vertical entre sous-figures\n",
    "\n",
    "    #plt.show()\n",
    "    # Sauvegarde de la figure avec le bon nom.\n",
    "    # Le second argument rétrécit les marges, par défaut relativement larges.\n",
    "    plt.savefig(name + '.png', bbox_inches='tight')\n",
    "\n",
    "    return"
   ]
  },
  {
   "cell_type": "code",
   "execution_count": 45,
   "metadata": {},
   "outputs": [
    {
     "name": "stdout",
     "output_type": "stream",
     "text": [
      "[1.92387953 1.99144486 1.99144486 1.92387953 1.79335334 1.60876143\n",
      " 1.38268343 1.13052619 0.86947381 0.61731657 0.39123857 0.20664666\n",
      " 0.07612047 0.00855514 0.00855514 0.07612047 0.20664666 0.39123857\n",
      " 0.61731657 0.86947381 1.13052619 1.38268343 1.60876143 1.79335334] 24\n",
      "[ 1.33226763e-15+0.00000000e+00j -6.66133815e-16+1.22124533e-15j\n",
      " -8.80207377e-16+3.54844201e-16j  0.00000000e+00-4.44089210e-16j\n",
      "  0.00000000e+00-7.69185075e-16j  1.02097802e-15+0.00000000e+00j\n",
      "  1.55431223e-15+1.55431223e-15j -9.43689571e-16+1.88737914e-15j\n",
      " -1.33226763e-15+0.00000000e+00j -6.66133815e-16-6.74104857e-16j\n",
      "  6.58162772e-16-7.98933411e-16j  1.10865544e+01+4.59220119e+00j\n",
      "  2.40000000e+01+0.00000000e+00j  1.10865544e+01-4.59220119e+00j\n",
      "  6.58162772e-16+7.98933411e-16j -1.42763399e-16+8.98533108e-16j\n",
      " -1.33226763e-15+0.00000000e+00j -6.66133815e-16-2.21247501e-15j\n",
      "  1.55431223e-15-1.55431223e-15j  4.44089210e-16+0.00000000e+00j\n",
      "  0.00000000e+00+7.69185075e-16j -1.32799596e-16+0.00000000e+00j\n",
      " -8.80207377e-16-3.54844201e-16j -9.11948474e-16-1.12057771e-15j]\n",
      "___\n",
      "[1.92387953 1.99144486 1.99144486 1.92387953 1.79335334 1.60876143\n",
      " 1.38268343 1.13052619 0.86947381 0.61731657 0.39123857 0.20664666\n",
      " 0.07612047 0.00855514 0.00855514 0.07612047 0.20664666 0.39123857\n",
      " 0.61731657 0.86947381 1.13052619 1.38268343 1.60876143 1.79335334] [0, 0, 0, 0, 0, 0, 0, 0, 0, 0, 0, (11.08655439013544+4.592201188381079j), (24+0j), (11.08655439013544-4.592201188381079j), 0, 0, 0, 0, 0, 0, 0, 0, 0, 0] [-12. -11. -10.  -9.  -8.  -7.  -6.  -5.  -4.  -3.  -2.  -1.   0.   1.\n",
      "   2.   3.   4.   5.   6.   7.   8.   9.  10.  11.]\n",
      "24 24\n"
     ]
    },
    {
     "data": {
      "text/plain": "<Figure size 864x1152 with 0 Axes>"
     },
     "metadata": {},
     "output_type": "display_data"
    },
    {
     "data": {
      "text/plain": "<Figure size 432x288 with 3 Axes>",
      "image/png": "[encoded data removed]"
     },
     "metadata": {
      "needs_background": "light"
     },
     "output_type": "display_data"
    }
   ],
   "source": [
    "## CELLULE DE TEST\n",
    "\n",
    "# Création du signal période x[n], sur une seule période\n",
    "N = 24\n",
    "p = 1 # à modifier\n",
    "n = np.arange(0,p*N)\n",
    "x  = 1 + np.sin(n*np.pi/12 + 3*np.pi/8) # signal de l'exercice 4.6 c), vérifiez donc avec ce que vous avez calculé !\n",
    "\n",
    "(X,k) = serieFourier(x,N)\n",
    "\n",
    "print(\"___\")\n",
    "print(x, X, k)\n",
    "print(len(X), len(x))\n",
    "plotSerieFourier(x,X,k,\"test\")"
   ]
  },
  {
   "cell_type": "code",
   "execution_count": null,
   "outputs": [],
   "source": [],
   "metadata": {
    "collapsed": false
   }
  },
  {
   "cell_type": "code",
   "execution_count": 16,
   "outputs": [],
   "source": [],
   "metadata": {
    "collapsed": false
   }
  }
 ],
 "metadata": {
  "kernelspec": {
   "display_name": "Python 3 (ipykernel)",
   "language": "python",
   "name": "python3"
  },
  "language_info": {
   "codemirror_mode": {
    "name": "ipython",
    "version": 3
   },
   "file_extension": ".py",
   "mimetype": "text/x-python",
   "name": "python",
   "nbconvert_exporter": "python",
   "pygments_lexer": "ipython3",
   "version": "3.10.10"
  }
 },
 "nbformat": 4,
 "nbformat_minor": 4
}
