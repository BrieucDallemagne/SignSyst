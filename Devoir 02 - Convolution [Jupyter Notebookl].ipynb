{
 "cells": [
  {
   "cell_type": "markdown",
   "metadata": {},
   "source": [
    "# LEPL1106, Devoir 2 : convolution et réponse impulsionnelle\n",
    "\n",
    "## 0) Introduction\n",
    "\n",
    "On va s'intéresser pour ce devoir à l'opération de convolution $*$ (en temps discret), et plus particulièrement, à son utilisation pour modéliser la sortie $y[n]$ d'un système $H$ dont la réponse impulsionnelle est $h[n]$. Pour une entrée $x[n]$, on a ainsi\n",
    "\n",
    "$$y[n] = (x * h)[n] = \\sum_k x[n-k] h[k].$$"
   ]
  },
  {
   "cell_type": "code",
   "execution_count": null,
   "metadata": {},
   "outputs": [],
   "source": [
    "import numpy as np\n",
    "import matplotlib.pyplot as plt\n",
    "\n",
    "# Tailles de police et couleurs utilisées avec la librairie matplotlib\n",
    "legendsize = 14\n",
    "titlesize = 14\n",
    "labelsize = 16\n",
    "colors = {'orange':[0.894,0.424,0.039],'red':[0.753,0.0,0.0],\n",
    "          'violet':[0.580,0.0,0.827],'green':[0.437,0.576,0.235],\n",
    "          'lightgreen':[0.0,0.9,0.0],'darkgreen':[0.0,0.5,0.0],\n",
    "          'blue':[0.0,0.439,0.753],'cyan':[0.0,0.9,1.0],\n",
    "          'white':[1.0,1.0,1.0], 'black':[0.0,0.0,0.0],\n",
    "          'grey':[0.5,0.5,0.5],'lightgrey':[0.7,0.7,0.7],\n",
    "          'maroon':[0.5,0.0,0.0],'brown':[0.545,0.271,0.075],\n",
    "          'gold':[0.812,0.710,0.231],'pink':[1.0,0.078,0.576]}"
   ]
  },
  {
   "cell_type": "markdown",
   "metadata": {},
   "source": [
    "Dans [NumPy](http://www.numpy.org/), une implémentation possible$^1$ de la convolution est donnée par `np.convolve` :\n",
    "\n",
    "$^1$*Un petit teaser pour les plus curieux d'entre vous : `np.convolve` implémente la convolution de manière \"naive\" en appliquant directement la définition ci-dessus. Pour deux signaux de taille égale $N$ (si `x.size = h.size = N`), cette implémentation a une complexité algorithmique de $\\mathcal O(N^2)$, ce peut être assez lourd pour $N$ grand (ci-dessous, ce souci n'apparaitra pas car les `h` que nous considérons ont un support très court). Heureusement, grâce au **théorème de la convolution** (que vous verrez plus tard dans le cours) et l'algorithme FFT qui calcule la **transformée de Fourier discrète**  (idem) de façon très efficace, il existe une autre implémtation, disponible via `scipy.signal.fftconvolve` du package `scipy` (SCIentific PYthon), qui a complexité $\\mathcal O(N \\log(N))$, ce qui est bien plus rapide pour les grandes valeurs de $N$. On reviendra là-dessus plus tard, quand nous étudierons le **filtrage** des signaux.*\n"
   ]
  },
  {
   "cell_type": "code",
   "execution_count": null,
   "metadata": {},
   "outputs": [],
   "source": [
    "help(np.convolve)"
   ]
  },
  {
   "cell_type": "markdown",
   "metadata": {},
   "source": [
    "## 1) Convolution\n",
    "\n",
    "Comme première tâche cette semaine, nous vous demandons d'écrire une fonction qui retourne la convolution entre deux signaux $x[n]$ et $h[n]$.\n",
    "\n",
    "> Trop facile, `np.convolve` et c'est plié !\n",
    ">\n",
    "> --- étudiant anonyme\n",
    "\n",
    "Oui, mais : on vous demande de faire particulièrement attention aux *indices* qui correspondent au résultat de la convolution ! Plus précisément donc, on vous demande d'écrire la fonction `convolution(x,nx,h,nh)`, où \n",
    "\n",
    "* Le numpy array `x` contient les valeurs du signal $x[n]$ évaluées aux indices correspondant dans `nx` (un numpy array d'entiers consécutifs). **Remarque** on suppose que $x[n] = 0$ en dehors des indices fournis dans `nx`. \n",
    "* Similairement, l'array `h` représente le signal $h[n]$ aux indices dans `nh`.\n",
    "\n",
    "Par exemple, le signal \"triangle\" de \"base\" $2T-1$, donné par $h[n] = r[n + T] - 2r[n] + r[n-T]$, sera représenté ainsi :\n",
    "\n"
   ]
  },
  {
   "cell_type": "code",
   "execution_count": null,
   "metadata": {},
   "outputs": [],
   "source": [
    "T = 4\n",
    "h = np.append(np.arange(1,T),np.arange(T,0,-1))\n",
    "nh = np.arange(-(T-1),T)\n",
    "\n",
    "print(\"h  : \",h)\n",
    "print(\"nh : \",nh)\n",
    "\n",
    "# N.B.: \n",
    "# Nous vous fournissons ici des plots que nous considérons comme corrects.\n",
    "# Lorsque nous vous demandons des plots, faites bien attention à respecter les consignes spécifiques à chaque figure.\n",
    "# Si vous utilisez les variables définies au début du notebook (ex : labelsize), veillez à les re-définir sur INGInious.\n",
    "\n",
    "plt.figure(figsize=(12,6))\n",
    "markerline, stemlines, baseline = plt.stem(nh,h)\n",
    "\n",
    "plt.setp(baseline,color=colors['black'])\n",
    "plt.setp(stemlines,color=colors['blue'],linewidth=2,linestyle='--')\n",
    "plt.setp(markerline,color=colors['blue'],marker='o',markersize=10)\n",
    "\n",
    "plt.title(f\"Signal triangle $h[n]$ (T = {T})\",fontsize=titlesize)\n",
    "plt.xlabel(r'$n$ [-]',fontsize=labelsize)\n",
    "plt.ylabel(r'$h[n]$ [-]',fontsize=labelsize)\n",
    "plt.grid('on',alpha=0.3)\n",
    "plt.xlim((-4,4))\n",
    "plt.ylim((-1,5))\n",
    "plt.show()"
   ]
  },
  {
   "cell_type": "markdown",
   "metadata": {},
   "source": [
    "Votre fonction `convolution` doit renvoyer deux vecteurs (numpy array), `y` et `ny`, où `y` contient les valeurs du signal $y[n]$ évalué aux indices retournés dans `ny` (attention à bien retourner un *tuple* `(y,ny)`). Le vecteur `ny` est donc un vecteur d'entiers consécutifs, qui contient toutes les valeurs de $n$ où la convolution peut être non-nulle."
   ]
  },
  {
   "cell_type": "code",
   "execution_count": null,
   "metadata": {},
   "outputs": [],
   "source": [
    "## LE CONTENU DE CETTE CELLLULE EST A SOUMETTRE SUR INGINIOUS\n",
    "\n",
    "def convolution(x,nx,h,nh):\n",
    "    \"\"\"\n",
    "    A COMPLETER\n",
    "    \"\"\"\n",
    "\n",
    "    y = np.zeros(x.size + h.size - 1)\n",
    "    ny = np.zeros(y.size)\n",
    "\n",
    "    a = nh.size//2\n",
    "    ny[0] =min(nx[0],nh[0]) - a  #création de l'array contenant les points auquels on à des signaux\n",
    "    for i in range(ny.size):\n",
    "        ny[i] = ny[0] + i\n",
    "        ny[i] = int(ny[i])\n",
    "    \n",
    "    y = np.convolve(x,h) #convolution entre x et h\n",
    "\n",
    "\n",
    "    return (y,ny)"
   ]
  },
  {
   "cell_type": "code",
   "execution_count": null,
   "metadata": {},
   "outputs": [],
   "source": [
    "## CELLULE DE TEST (1/2)\n",
    "\n",
    "# Créer un signal avec quelques deltas\n",
    "nx = np.arange(-10,21)\n",
    "x  = np.zeros(nx.size)\n",
    "deltas = [-7, 2, 13, 18] # position des deltas\n",
    "x[deltas - nx[0]] = 1\n",
    "\n",
    "print(\"Taille de x:  \", x.size, \"\\tet de nx :\", nx.size)\n",
    "print(\"Taille de h:  \", h.size, \"\\tet de nh :\", nh.size)\n",
    "\n",
    "\n",
    "(y,ny) = convolution(x,nx,h,nh)\n",
    "\n",
    "print(\"Taille de y:  \", y.size, \"\\tet de ny :\", ny.size)"
   ]
  },
  {
   "cell_type": "code",
   "execution_count": null,
   "metadata": {},
   "outputs": [],
   "source": [
    "def plot_convolution(x,nx,y,ny,fig_name):\n",
    "    # Calcul de la convolution\n",
    "    z = np.convolve(x, y)\n",
    "    \n",
    "    #création de l'array contenant les points auquels on à des signaux    \n",
    "    nz = np.zeros(z.size) \n",
    "    a = ny.size//2\n",
    "    nz[0] =min(nx[0],ny[0]) - a  \n",
    "    for i in range(nz.size):\n",
    "        nz[i] = nz[0] + i\n",
    "        nz[i] = int(nz[i])\n",
    "\n",
    "    # Création de la figure\n",
    "    plt.figure(figsize=(15,8))\n",
    "\n",
    "    # Affichage de z[n]\n",
    "    plt.stem(nz, z, use_line_collection=True)\n",
    "    plt.xlabel('n')\n",
    "    plt.ylabel('z[n]')\n",
    "    plt.title('Convolution de x et y')\n",
    "\n",
    "    plt.show()\n",
    "\n",
    "    plt.savefig(fig_name + '.png', bbox_inches='tight')\n",
    "\n",
    "    return\n",
    "    "
   ]
  },
  {
   "cell_type": "code",
   "execution_count": null,
   "metadata": {},
   "outputs": [],
   "source": [
    "## CELLULE DE TEST\n",
    "\n",
    "plot_convolution(x,nx,y,ny,'plot_convolution')\n",
    "\n",
    "# La figure s'affichera ci-dessous :"
   ]
  },
  {
   "cell_type": "markdown",
   "metadata": {},
   "source": [
    "## 2) La sortie d'un système par convolution\n",
    "Considérons maintenant le tout premier *système* des devoirs de ce cours : la \"moyenne glissante\" (*moving average*), souvent utilisée pour \"lisser\" des signaux qui présentent de fortes fluctuations (comme on le verra plus tard dans le cours, c'est un \"filtre passe-bas\"). Plus précisément, pour une entrée $x[n]$, la sortie $y[n]$ du système \"moyenne glissante\" de taille $M > 0$ renvoie la moyenne des $M$ derniers échantillons, i.e.,\n",
    "\n",
    "$$y[n] = \\frac{x[n]+x[n-1]+...+x[n-(M-1)]}{M}.$$\n",
    "\n",
    "La *réponse impulsionnelle* de ce systeme est \n",
    "$$h[n] = \\frac{1}{M} (u[n] - u[n - M]).$$\n",
    " \n",
    "En effet, on peut verifier (faites-le!) à partir des deux équations précédentes que $y[n] = (x * h)[n]$, où $*$ est le *produit de convolution*.\n",
    "\n",
    "On vous demande d'écrire `moving_average(x,M)` qui implémente ce système : pour un signal $x$ (un numpy array de taille $N$ correspondant aux valeurs $x[0], x[1], ..., x[N-1]$) et une taille de fenêtre $M$, calculez la sortie $y$ définie ci-dessus (un numpy array de taille $N$ correspondant aux valeurs $y[0], y[1], ..., y[N-1]$, **de même taille que l'entrée $x$**, évaluée aux mêmes indices). \n",
    "\n",
    "Il vous faudra donc\n",
    "1. calculer $h$ (par exemple, grâce à votre fonction `window` où $n_0 = 0$ et $n_1 = M$), évaluée aux indices $n = 0, 1, ..., L-1$ pour une taille $L \\geq M$.\n",
    "2. puis d'utiliser `convolution` pour calculer le produit de convolution $y = x * h$. Attention à bien respecter la contrainte vis-à-vis des valeurs qu'on souhaite conserver.\n",
    "\n",
    "(précision : on suppose que les valeurs précédentes de $x$ sont nulles, i.e. $x[n] = 0$ pour $n < 0$)"
   ]
  },
  {
   "cell_type": "code",
   "execution_count": null,
   "metadata": {},
   "outputs": [],
   "source": [
    "## LE CONTENU DE CETTE CELLLULE EST A SOUMETTRE SUR INGINIOUS\n",
    "# ATTENTION : SI VOUS UTILISEZ VOTRE FONCTION convolution DANS CETTE CELLULE, \n",
    "#    VOUS DEVEZ REDEFINIR convolution DANS LA FONCTION moving_average POUR LA SOUMISSION INGINIOUS\n",
    "\n",
    "def moving_average(x,M):\n",
    "    # Calcul de la réponse impulsionnelle\n",
    "    h = 1/M * (np.arange(M) < M)  # utilisation d'un masque booléen\n",
    "    \n",
    "    # Calcul de la sortie\n",
    "    y = np.convolve(x, h)[:len(x)]  # on tronque la sortie pour conserver la taille de x\n",
    "    \n",
    "    return y"
   ]
  },
  {
   "cell_type": "markdown",
   "metadata": {},
   "source": [
    "### Une application pour tester notre fonction\n",
    "\n",
    "Considérons comme signal $x$ le prix de l'électricité en Belgique sur le marché *day-ahead*. Sur ce marché, les acteurs peuvent vendre et acheter de l'énergie électrique qui sera produite et consommée le lendemain. A chaque heure, le prix de l'électricité (en [€/MWh]) est déterminé en tenant compte des courbes de prévision de l'offre et de la demande. \n",
    "Les données fournies avec ce devoir décrivent le prix fixé sur le marché *day-ahead* à chaque heure et chaque jour du mois d'août 2022. Ce prix variant fortement au cours d'une journée, nous vous proposons d'étudier le signal lissé par une moyenne glissante de taille 24.\n",
    "\n",
    "*Attention à bien télécharger le fichier \"elec_prices.npy\" sur Moodle et à le placer dans un sous-dossier \"data\", lui-même placé dans le même dossier que ce notebook*"
   ]
  },
  {
   "cell_type": "code",
   "execution_count": null,
   "metadata": {},
   "outputs": [],
   "source": [
    "x = np.load(\"data/elec_prices.npy\")  # Prix de l'électricité à chaque heure entre le 01/08/2022 et le 31/08/2022 (https://www.elia.be/en/grid-data/transmission/day-ahead-reference-price)\n",
    "N = len(x)\n",
    "h = np.linspace(0,(N-1)/24,N) # Vecteur temps en heures\n",
    "y = moving_average(x,M=24) # Moyenne quotidienne\n"
   ]
  },
  {
   "cell_type": "code",
   "execution_count": null,
   "metadata": {
    "scrolled": true
   },
   "outputs": [],
   "source": [
    "\n",
    "plt.figure(figsize=(12,6))\n",
    "plt.plot(h,x,label=r\"Prix heure par heure $x[n]$\",linewidth=1,color=colors['blue'])\n",
    "plt.plot(h,y,label=r\"Prix lissé par moyenne glissante $y[n]$ (après moyenne)\",linewidth=3,color=colors['orange'])\n",
    "plt.title(\"Prix de l'électricité en Belgique sur le day-ahead market\",fontsize=titlesize)\n",
    "plt.xlabel(\"Jours du mois d'août 2022\",fontsize=labelsize)\n",
    "plt.ylabel(\"Prix [€/MWh]\",fontsize=labelsize)\n",
    "plt.legend(fontsize=legendsize,framealpha=1,fancybox=False,edgecolor='k')\n",
    "plt.grid('on',alpha=0.3)\n",
    "plt.xlim((0,31)); plt.ylim((-100,1000))\n",
    "plt.show()"
   ]
  },
  {
   "cell_type": "code",
   "execution_count": null,
   "metadata": {},
   "outputs": [],
   "source": [
    "import matplotlib\n",
    "matplotlib.__version__"
   ]
  }
 ],
 "metadata": {
  "kernelspec": {
   "display_name": "Python 3",
   "language": "python",
   "name": "python3"
  },
  "language_info": {
   "codemirror_mode": {
    "name": "ipython",
    "version": 3
   },
   "file_extension": ".py",
   "mimetype": "text/x-python",
   "name": "python",
   "nbconvert_exporter": "python",
   "pygments_lexer": "ipython3",
   "version": "3.10.10"
  },
  "vscode": {
   "interpreter": {
    "hash": "9b72234e8c5a6b48dd5d7226d0878d9ab8dfde71c22ee67566a1fbd06f298862"
   }
  }
 },
 "nbformat": 4,
 "nbformat_minor": 4
}
