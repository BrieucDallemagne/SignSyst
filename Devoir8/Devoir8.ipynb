{
 "cells": [
  {
   "cell_type": "markdown",
   "metadata": {
    "id": "OmV6hvuwL4i8"
   },
   "source": [
    "# LEPL1106, Devoir 9 : Critère de stabilité\n",
    "\n",
    "## Introduction\n",
    "\n",
    "Pour qu'un système asservi fonctionne automatiquement, il est indispensable qu'il soit stable. Autrement, le système pourrait évoluer en s'éloignant de son point d'équilibre ce qui dégraderait le système, par exemple en engendrant des phénomènes de saturation. On dit qu'un système est stable si et seulement si, écarté de sa position d'équilibre, il tend à y revenir.\n",
    "Une faible perturbation des conditions initiales du système engendre alors seulement une faible perturbation de sa trajectoire.\n",
    "\n",
    "La **stabilité EBSB** (Entrée Bornée/Sortie Bornée), ou BIBO (Bounded Input/Bounded Output), est une forme de stabilité qui signifie qu'à une entrée bornée du système correspond toujours une sortie bornée.\n",
    "\n",
    "## Condition de stabilité d'un système continu dans le domaine fréquentiel\n",
    "\n",
    "Dans ce devoir, nous nous intéressons uniquement à la stabilité des systèmes en temps continu dans le domaine fréquentiel. Les conditions de stabilité sont définies différemment dans le domaine temporel et d'autres conditions de stabilité existent pour les systèmes en temps discret.\n",
    "\n",
    "En temps continu, un système linéaire et invariant dans le temps (LIT) est **asymptotiquement stable** si et seulement si les pôles de sa fonction de transfert sont à parties réelles strictement négatives. La fonction de transfert est supposée causale et rationnelle.\n",
    "En notant $p_i$ les pôles de la fonction de transfert et $\\sigma$ l’abscisse de convergence définie par $\\sigma = \\max \\Re(p_i)$, le système est stable EBSB si et seulement si $\\sigma < 0$.\n",
    "\n",
    "## Critère de stabilité\n",
    "\n",
    "Pour déterminer si un système est stable ou non, on peut utiliser plusieurs méthodes ou plusieurs critères. Il existe 2 types de critères: les critères numériques (comme celui de Routh-Hurwitz par exemple) ou les critères graphiques (comme le critère de Nyquist). Ces critères permettent uniquement de déterminer si le système est stable ou non mais ils n'indiquent pas le degré de stabilité (c'est-à-dire si le système est plus ou moins stable). Pour apprécier ce degré de stabilité, il faut utiliser d'autres outils tels que les marges de phase et les marges de gain. Vous rencontrerez ces concepts plus en détail dans la suite de votre parcours académique.\n",
    "\n",
    "Dans ce devoir, nous nous focalisons sur le **critère de Routh-Hurwitz** qui permet d’évaluer la stabilité d’un système à partir des coefficients du dénominateur de sa fonction de transfert lorsque celui-ci est un polynôme. Une condition nécessaire de stabilité est que tous les coefficients du polynôme soient strictement de même signe. Si la condition nécessaire est vérifiée, il faut construire le tableau de Routh. Le critère de Routh-Hurwitz énonce qu'un polynôme de degré $n$ possède uniquement des racines à partie réelle strictement négative si et seulement si les coefficients de la première colonne du tableau de Routh sont non nuls et ne changent pas de signe. Ce critère est une condition nécessaire et suffisante de stabilité asymptotique du système (mais pas de stabilité car le système pourrait être marginalement stable même s'il ne respecte pas ce critère).\n",
    "\n",
    "Pour un polynôme $A(s)=a_n s^n + a_{n-1} s^{n-1} + ... + a_1 s + a_0$, le **tableau de Routh** se construit comme suit:\n",
    "\n",
    "Ligne $n$ &emsp; &emsp; &emsp; $\\ a_n$ &ensp; &emsp; $a_{n-2}$ &emsp; $a_{n-4}$ &emsp; ...\n",
    "\n",
    "Ligne $n-1$ &ensp; &emsp; $a_{n-1}$ &ensp; $\\ a_{n-3}$ &emsp; $a_{n-5}$ &emsp; ...\n",
    "\n",
    "Ligne $n-2$ &ensp; &emsp; $b_1$ &ensp; &emsp; $b_2$ &emsp; &emsp; ...\n",
    "\n",
    "Ligne $n-3$ &ensp; &emsp; $c_1$ &ensp; &emsp; $c_2$ &emsp; &emsp; ...\n",
    "\n",
    "... &emsp; &emsp; &emsp; &emsp; &emsp; ... &emsp; &emsp; ... &emsp; &emsp; ...\n",
    "\n",
    "avec $b_i = \\frac{a_{n-1}\\cdot a_{n-2i}-a_n\\cdot a_{n-2i-1}}{a_{n-1}}$ et $c_i = \\frac{b_{1}\\cdot a_{n-2i-1}-a_{n-1}\\cdot b_{i+1}}{b_{1}}$\n",
    "\n",
    "&nbsp;\n",
    "\n",
    "Ou sous une **autre forme**:\n",
    "\n",
    "Ligne $n$ &emsp; &emsp; &emsp; $\\ C_{1,1}=a_n$ &emsp; &emsp; &emsp; &emsp; &emsp; &emsp; &emsp; $C_{1,2}=a_{n-2}$ &emsp; &emsp; &emsp; &emsp; &emsp; &emsp; &nbsp; $C_{1,3}=a_{n-4}$ &emsp; &emsp; &emsp; &emsp; &emsp; &emsp; &ensp; ...\n",
    "\n",
    "Ligne $n-1$ &ensp; &emsp; $C_{2,1}=a_{n-1}$ &emsp; &emsp; &emsp; &emsp; &emsp; &ensp; &ensp; $C_{2,2}=a_{n-3}$ &emsp; &emsp; &emsp; &emsp; &emsp; &emsp; &nbsp; $C_{2,3}=a_{n-5}$ &emsp; &emsp; &emsp; &emsp; &emsp; &emsp; &ensp; ...\n",
    "\n",
    "Ligne $n-2$ &ensp; &emsp; $C_{3,1}=\\frac{-1}{C_{2,1}}\\begin{vmatrix} C_{1,1} & C_{1,2} \\\\ C_{2,1} & C_{2,2} \\end{vmatrix}$ &ensp; &emsp; $C_{3,2}=\\frac{-1}{C_{2,1}}\\begin{vmatrix} C_{1,1} & C_{1,3} \\\\ C_{2,1} & C_{2,3} \\end{vmatrix}$ &emsp; &emsp; $C_{3,3}=\\frac{-1}{C_{2,1}}\\begin{vmatrix} C_{1,1} & C_{1,4} \\\\ C_{2,1} & C_{2,4} \\end{vmatrix}$ &emsp; &emsp; ...\n",
    "\n",
    "Ligne $n-3$ &ensp; &emsp; $C_{4,1}=\\frac{-1}{C_{3,1}}\\begin{vmatrix} C_{2,1} & C_{2,2} \\\\ C_{3,1} & C_{3,2} \\end{vmatrix}$ &ensp; &emsp; $C_{4,2}=\\frac{-1}{C_{3,1}}\\begin{vmatrix} C_{2,1} & C_{2,3} \\\\ C_{3,1} & C_{3,3} \\end{vmatrix}$ &emsp; &emsp; ...\n",
    "\n",
    "... &emsp; &emsp; &emsp; &emsp; &emsp; ... &emsp; &emsp; &emsp; &emsp; &emsp; &emsp; &emsp; &emsp; &emsp; &emsp; ... &emsp; &emsp; &emsp; &emsp; &emsp; &emsp; &emsp; &emsp; &emsp; &ensp; &ensp; ...\n",
    "\n",
    "\n",
    "## Objectif\n",
    "\n",
    "On vous demande d'abord de compléter la fonction Python `RouthTable(A,n)` en partant du template fourni ci-dessous.\n",
    "L'argument `A` est un vecteur (`numpy array`) de longueur $n+1$ qui contient les coefficients du polynôme dont on cherche à tester la stabilité. Ces coefficients sont ordonnés selon leurs indices **dans un ordre croissant**, c'est-à-dire: $[a_0 \\ a_1 \\ ... \\ a_{n-1} \\ a_n]$. L'argument `n` est le degré du polynôme.\n",
    "Cette fonction doit retourner tous les éléments du tableau de Routh sous forme d'un tableau (`numpy array`) dont l'arrangement vertical/horizontal est identique à celui présenté dans les rappels théoriques. Cela signifie que si on applique la fonction `print` au tableau, les lignes sont bien affichées sous forme de lignes et les colonnes sous forme de colonnes.\n",
    "\n",
    "*Hint: Pour déterminer les éléments du tableau de Routh à partir de la ligne $n-2$, il est possible d'utiliser une relation de récurrence par rapport aux éléments des lignes précédentes.*\n",
    "\n",
    "**Vous ne devez pas chercher à traiter les éventuels cas spéciaux** (càd ceux qui engendrent des zéros dans la première colonne du tableau).\n",
    "\n",
    "Ensuite, on vous demande d'écrire une seconde fonction `respectRHcriterion(RouthTab)` qui teste que le polynôme respecte le critère de Routh-Hurwitz. En pratique, cette fonction prend comme argument `RouthTab` un tableau (`numpy array`) qui doit être la sortie de la fonction `RouthTable(A,n)`. \n",
    "La première étape de cette fonction est d'extraire la première colonne du tableau qui sert à tester le critère de Routh-Hurwitz. Cette étape est déjà complétée dans le template. Vous devez donc uniquement compléter la partie de la fonction qui teste le critère de Routh-Hurwitz sur cette colonne du tableau (cfr. explications théoriques ci-dessus).\n",
    "Si le critère de Routh-Hurwitz est respecté, la fonction retourne `True`, sinon elle retourne `False`. **Faites bien attention à retourner un booléen (`<class 'bool'>`), et pas un autre type de variable (ex: `<class 'numpy.bool_'>`).**\n",
    "\n",
    "La dernière cellule de ce Notebook peut vous servir à tester vos fonctions et à afficher vos tableaux de Routh. Vérifiez donc bien que les tableaux sont affichés correctement et que votre fonction calcule les bonnes valeurs. Vérifiez aussi que le test du critère de Routh-Hurwitz fonctionne correctement. *Cette cellule n'est pas à soumettre sur INGINIOUS*.\n",
    "\n",
    "Vous devrez également adapter les\n",
    "[docstring](https://realpython.com/documenting-python-code/#documenting-your-python-code-base-using-docstrings)\n",
    "(commentaire au début de votre fonction, qui s'affiche quand on tape\n",
    "`help(nomDeLaFonction)`) de chaque fonction, comme indiqué dans le\n",
    "modèle.\n",
    "\n",
    "\n",
    "## Evaluation\n",
    "\n",
    "\n",
    "Les critères et modalités d'évaluation sont repris ci-dessous. Nous\n",
    "rappelons que la fonction sera corrigée uniquement si elle est validée,\n",
    "c'est-à-dire si elle passe les tests simples :\n",
    "\n",
    "-   Respect consignes (1 point) : remise avant la deadline, description\n",
    "    précise de la fonction et présence de toutes les informations\n",
    "    importantes en commentaire, tentative d'atteindre l'objectif du\n",
    "    devoir.\n",
    "-   Objectif du devoir atteint (4 points) : les fonctions soumises remplissent\n",
    "    les objectifs du devoir et passent avec succès divers tests.\n",
    "    \n",
    "\n",
    "## Deadline\n",
    "\n",
    "\n",
    "Le vendredi 5 mai à 20h00. Aucune extension n'est possible, prenez vos dispositions pour soumettre à temps, d'autant plus qu'**il est possible de faire seulement 5 soumissions par heure**. Votre dernière soumission sera évaluée.\n",
    "\n",
    "## Précision\n",
    "\n",
    "\n",
    "La remise par deux est autorisée pour peu que\n",
    "\n",
    "-   les deux étudiants soient membres du même groupe de TP ;\n",
    "-   les deux étudiants soient inscrits dans la même team sur la plateforme INGInious.\n",
    "\n",
    "Questions sur le devoir à adresser au forum des Devoir (sur Moodle), à votre tuteur/tutrice, ou à sebastien.colla@uclouvain.be."
   ]
  },
  {
   "cell_type": "markdown",
   "metadata": {
    "id": "ITcS_1Ttf4y4"
   },
   "source": [
    "## Question 1: Fonction RouthTable\n",
    "\n",
    "Définis(sez) et commente(z) la fonction RouthTable:"
   ]
  },
  {
   "cell_type": "code",
   "execution_count": 1,
   "metadata": {
    "id": "TOUfd56Vt2Gc"
   },
   "outputs": [],
   "source": [
    "import numpy as np"
   ]
  },
  {
   "cell_type": "code",
   "execution_count": 512,
   "metadata": {
    "id": "2VN0u5dDfs1T"
   },
   "outputs": [],
   "source": [
    "## LE CONTENU DE CETTE CELLLULE EST A SOUMETTRE SUR INGINIOUS\n",
    "def RouthTable(A,n):\n",
    "    \n",
    "    # Initialisation du tableau de Routh\n",
    "    # Par défaut, tous les coefficients sont nuls\n",
    "    tab = np.zeros((n+1,(n+2)//2)) # Ligne à conserver dans votre code\n",
    "    \n",
    "    \"\"\"\n",
    "    A COMPLETER\n",
    "    1) Commencez par définir la première et la deuxième ligne du tableau\n",
    "    2) Déterminez ensuite les éléments des lignes suivantes sur base des éléments des lignes déjà définies\n",
    "       ==>> Hint: utilisez deux boucles FOR imbriquées\n",
    "    \"\"\"\n",
    "    odd=[]; even=[]\n",
    "    A.append(0)\n",
    "    \n",
    "    #add all my indices in the array n and n-1\n",
    "    for i in range(n//2, -1, -1):\n",
    "        tab[0][i] = A[n-2*i]\n",
    "        \n",
    "    for i in range(n//2, -1 , -1):\n",
    "        tab[1][i] = A[n-2*i-1]\n",
    "    \n",
    "    \n",
    "    #generating b and c\n",
    "    b=[]; c=[]\n",
    "    for j in range(1,n//2 +1):\n",
    "        b.append((A[n-1]*A[n-2*j] - A[n]*A[n-2*j-1])/(A[n-1]))\n",
    "    \n",
    "    for j in range(1, n//2):\n",
    "        c.append((b[0]*A[n-2*j-1] - A[n-1]*b[j])/(b[0]))\n",
    "    \n",
    "    newA=[]\n",
    "    for sum in range(len(b)+len(c)):\n",
    "        if sum % 2:\n",
    "            newA.append(c[(sum-1)//2])\n",
    "        else:\n",
    "            newA.append(b[sum//2])\n",
    "    #inverse car je suis trop con pour faire dans le bon sens, il faudrait modifier \"generating b and c\"\n",
    "    newA=newA[::-1]\n",
    "    #print(newA, tab)\n",
    "    if n <= 2:\n",
    "        tab=np.delete(tab, 2,0)\n",
    "        b=np.append(b,0)\n",
    "        return np.vstack((tab,b))\n",
    "    else:\n",
    "        #Récursion\n",
    "        suite=RouthTable(newA,n-2)\n",
    "        \n",
    "        #Reformate les données au format de tab\n",
    "        suite=np.hstack((suite, np.zeros((suite.shape[0],1))))\n",
    "        suite=np.vstack((np.zeros((2, suite.shape[1])), suite))\n",
    "        \n",
    "        #Addition des données\n",
    "        tab = tab+suite\n",
    "    \n",
    "    \n",
    "    return tab # Retourne le tableau de Routh\n"
   ]
  },
  {
   "cell_type": "markdown",
   "metadata": {
    "id": "mH6cRUuNf-Ru"
   },
   "source": [
    "## Question 2: Fonction respectRHcriterion\n",
    "Définis(sez) et commente(z) la fonction respectRHcriterion:\n"
   ]
  },
  {
   "cell_type": "code",
   "execution_count": 513,
   "metadata": {
    "id": "zBqPzwHDgXtV"
   },
   "outputs": [],
   "source": [
    "## LE CONTENU DE CETTE CELLLULE EST A SOUMETTRE SUR INGINIOUS\n",
    "def respectRHcriterion(RouthTab):\n",
    "    \n",
    "    firstCol = RouthTab[:,0] # Première colonne du tableau de Routh\n",
    "    \n",
    "    \"\"\"\n",
    "    A COMPLETER\n",
    "    \"\"\"\n",
    "    \n",
    "    return False # A MODIFIER : Retourne True si le critère est respecté et False sinon"
   ]
  },
  {
   "cell_type": "markdown",
   "metadata": {
    "id": "3Mxyxb9agkMB"
   },
   "source": [
    "## Testez vos fonctions\n",
    "\n",
    "La cellule de test ci-dessous vous permet de tester vos fonctions. Les vecteurs `A1` et `A2` définissent les coefficients de deux polynômes, respectivement stable et instable."
   ]
  },
  {
   "cell_type": "code",
   "execution_count": 514,
   "metadata": {
    "id": "tWk0y6MGt2Ge"
   },
   "outputs": [
    {
     "name": "stdout",
     "output_type": "stream",
     "text": [
      "[[1.         3.         1.        ]\n",
      " [3.         2.         0.        ]\n",
      " [2.33333333 1.         0.        ]\n",
      " [0.71428571 0.         0.        ]\n",
      " [1.         0.         0.        ]]\n",
      "Le système A1 est stable : False\n",
      "[[ 2.          1.          2.          1.        ]\n",
      " [ 3.          5.          4.          0.        ]\n",
      " [-2.33333333 -0.66666667  1.          0.        ]\n",
      " [ 4.14285714  5.28571429  0.          0.        ]\n",
      " [ 2.31034483  1.          0.          0.        ]\n",
      " [ 3.49253731  0.          0.          0.        ]\n",
      " [ 1.          0.          0.          0.        ]]\n",
      "Le système A2 est stable : False\n"
     ]
    }
   ],
   "source": [
    "## CELLULE DE TEST \n",
    "\n",
    "# Système stable\n",
    "A1 = [1,2,3,3,1]\n",
    "RouthTab1 = RouthTable(A1,len(A1)-1)\n",
    "print(RouthTab1)\n",
    "stable = respectRHcriterion(RouthTab1)\n",
    "\n",
    "print(\"Le système A1 est stable :\",stable)\n",
    "\n",
    "# Système instable\n",
    "A2 = [1,4,2,5,1,3,2]\n",
    "RouthTab2 = RouthTable(A2,len(A2)-1)\n",
    "print(RouthTab2)\n",
    "unstable = respectRHcriterion(RouthTab2)\n",
    "\n",
    "print(\"Le système A2 est stable :\",unstable)\n"
   ]
  },
  {
   "cell_type": "markdown",
   "metadata": {
    "id": "Ss9lsmJsJ2OV"
   },
   "source": [
    "L'application consécutive de vos fonctions à ces deux situations devrait vous indiquer de manière cohérente que le premier polynôme est stable et que le second est instable.\n",
    "N'hésitez pas à tester vos fonctions pour d'autres polynômes."
   ]
  },
  {
   "cell_type": "code",
   "execution_count": 500,
   "metadata": {},
   "outputs": [
    {
     "name": "stdout",
     "output_type": "stream",
     "text": [
      "[[1 2]\n",
      " [3 4]\n",
      " [5 6]]\n"
     ]
    },
    {
     "data": {
      "text/plain": [
       "array([[1, 2, 0],\n",
       "       [3, 4, 0]])"
      ]
     },
     "execution_count": 500,
     "metadata": {},
     "output_type": "execute_result"
    }
   ],
   "source": [
    "a=np.array([[1, 2], [3,4]])\n",
    "b=np.array([[5,6]])\n",
    "\n",
    "print(np.vstack((a,b)))\n",
    "\n",
    "np.append(a, [[0],[0]], axis=1)"
   ]
  },
  {
   "cell_type": "code",
   "execution_count": 501,
   "metadata": {},
   "outputs": [
    {
     "data": {
      "text/plain": [
       "2"
      ]
     },
     "execution_count": 501,
     "metadata": {},
     "output_type": "execute_result"
    }
   ],
   "source": [
    "3//2+1"
   ]
  },
  {
   "cell_type": "code",
   "execution_count": null,
   "metadata": {},
   "outputs": [],
   "source": []
  }
 ],
 "metadata": {
  "colab": {
   "collapsed_sections": [],
   "name": "LEPL1106_22_Devoir_07.ipynb",
   "provenance": []
  },
  "kernelspec": {
   "display_name": "Python 3 (ipykernel)",
   "language": "python",
   "name": "python3"
  },
  "language_info": {
   "codemirror_mode": {
    "name": "ipython",
    "version": 3
   },
   "file_extension": ".py",
   "mimetype": "text/x-python",
   "name": "python",
   "nbconvert_exporter": "python",
   "pygments_lexer": "ipython3",
   "version": "3.10.11"
  }
 },
 "nbformat": 4,
 "nbformat_minor": 4
}
